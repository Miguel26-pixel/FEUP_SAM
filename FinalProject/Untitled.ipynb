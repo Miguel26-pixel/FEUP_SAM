{
 "cells": [
  {
   "cell_type": "code",
   "execution_count": 1,
   "id": "e9e78df4",
   "metadata": {},
   "outputs": [],
   "source": [
    "#!pip install pdfplumber"
   ]
  },
  {
   "cell_type": "code",
   "execution_count": 2,
   "id": "da2771ba",
   "metadata": {},
   "outputs": [],
   "source": [
    "import PyPDF2\n",
    "import pdfplumber\n",
    "import pyttsx3\n",
    "import tkinter as tk\n",
    "from tkinter import filedialog\n",
    "import threading\n",
    "\n",
    "#global reading\n",
    "reading = True"
   ]
  },
  {
   "cell_type": "code",
   "execution_count": 3,
   "id": "b3d3f61b",
   "metadata": {},
   "outputs": [],
   "source": [
    "def extract_pdf(pdf) -> tuple:\n",
    "    reader = pdfplumber.open(pdf)\n",
    "    text = str()\n",
    "    for page in reader.pages:\n",
    "        text += page.extract_text()\n",
    "        \n",
    "    phrases = text.split('.')\n",
    "    return tuple(phrases)"
   ]
  },
  {
   "cell_type": "code",
   "execution_count": 4,
   "id": "c5cee719",
   "metadata": {},
   "outputs": [],
   "source": [
    "def read_phrase(phrase, voiceId):\n",
    "    engine = pyttsx3.init()\n",
    "    voices = engine.getProperty('voices')\n",
    "    engine.setProperty('voice', voices[voiceId].id)\n",
    "\n",
    "    engine.say(phrase)\n",
    "    engine.runAndWait()\n",
    "    \n",
    "    engine.stop()\n",
    "    engine = None"
   ]
  },
  {
   "cell_type": "code",
   "execution_count": 5,
   "id": "e35c2cab",
   "metadata": {},
   "outputs": [],
   "source": [
    "def extract_read_pdf():\n",
    "    # Open the file dialog to choose a PDF file\n",
    "    file_path = filedialog.askopenfilename(filetypes=[(\"PDF Files\", \"*.pdf\")])\n",
    "    \n",
    "    if file_path:\n",
    "        \n",
    "        pdfPhrases = extract_pdf(file_path)\n",
    "        \n",
    "        for p in pdfPhrases:\n",
    "            global reading\n",
    "            if not reading:\n",
    "                print(\"leaving thread\")\n",
    "                return\n",
    "            print(\"reading= \", reading)\n",
    "            read_phrase(p, voice_choice.get())\n",
    "            #sleep(1)"
   ]
  },
  {
   "cell_type": "code",
   "execution_count": 6,
   "id": "ece38a70",
   "metadata": {},
   "outputs": [],
   "source": [
    "def read_pdf_with_thread():\n",
    "    readThread = threading.Thread(target=extract_read_pdf)\n",
    "    readThread.start()"
   ]
  },
  {
   "cell_type": "code",
   "execution_count": 7,
   "id": "5ea023eb",
   "metadata": {},
   "outputs": [],
   "source": [
    "def switch_reading():\n",
    "    global reading\n",
    "    reading = not reading\n",
    "    print(\"reading= \", reading)"
   ]
  },
  {
   "cell_type": "code",
   "execution_count": 8,
   "id": "8fc0f41b",
   "metadata": {},
   "outputs": [
    {
     "name": "stdout",
     "output_type": "stream",
     "text": [
      "reading=  False\n",
      "reading=  True\n",
      "reading=  True\n",
      "reading=  False\n",
      "leaving thread\n"
     ]
    }
   ],
   "source": [
    "# Create the Tkinter window\n",
    "window = tk.Tk()\n",
    "window.title(\"PDF Reader\")\n",
    "\n",
    "# Voice selection label\n",
    "voice_label = tk.Label(window, text=\"Select Voice:\")\n",
    "voice_label.pack()\n",
    "\n",
    "# Voice selection dropdown\n",
    "voice_choice = tk.IntVar()\n",
    "voice_dropdown = tk.OptionMenu(window, voice_choice, 0, 1, 2)\n",
    "voice_dropdown.pack()\n",
    "\n",
    "# Button to choose and read PDF file\n",
    "choose_file_button = tk.Button(window, text=\"Choose PDF File\", command=read_pdf_with_thread)\n",
    "choose_file_button.pack()\n",
    "\n",
    "stopReadingButton = tk.Button(window, text=\"stop\", command=switch_reading)\n",
    "stopReadingButton.pack()\n",
    "\n",
    "# Run the Tkinter event loop\n",
    "window.mainloop()\n"
   ]
  },
  {
   "cell_type": "code",
   "execution_count": null,
   "id": "f9d6901f",
   "metadata": {},
   "outputs": [],
   "source": []
  }
 ],
 "metadata": {
  "kernelspec": {
   "display_name": "Python 3 (ipykernel)",
   "language": "python",
   "name": "python3"
  },
  "language_info": {
   "codemirror_mode": {
    "name": "ipython",
    "version": 3
   },
   "file_extension": ".py",
   "mimetype": "text/x-python",
   "name": "python",
   "nbconvert_exporter": "python",
   "pygments_lexer": "ipython3",
   "version": "3.10.10"
  }
 },
 "nbformat": 4,
 "nbformat_minor": 5
}
